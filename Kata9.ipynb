{
 "cells": [
  {
   "cell_type": "markdown",
   "metadata": {},
   "source": [
    "Ejercicio 1"
   ]
  },
  {
   "cell_type": "code",
   "execution_count": 1,
   "metadata": {},
   "outputs": [
    {
     "name": "stdout",
     "output_type": "stream",
     "text": [
      "Fuel Report:\n",
      "    Total Average: 78.33333333333333%\n",
      "    Main tank: 80%\n",
      "    External tank: 70%\n",
      "    Hydrogen tank: 85% \n",
      "    \n",
      "Fuel Report:\n",
      "    Total Average: 78.0%\n",
      "    Main tank: 88%\n",
      "    External tank: 76%\n",
      "    Hydrogen tank: 70% \n",
      "    \n"
     ]
    }
   ],
   "source": [
    "# Función para leer 3 tanques de combustible y muestre el promedio\n",
    "\n",
    "def generate_report(main_tank, external_tank, hydrogen_tank):\n",
    "    total_average = (main_tank + external_tank + hydrogen_tank) / 3\n",
    "    return f\"\"\"Fuel Report:\n",
    "    Total Average: {total_average}%\n",
    "    Main tank: {main_tank}%\n",
    "    External tank: {external_tank}%\n",
    "    Hydrogen tank: {hydrogen_tank}% \n",
    "    \"\"\"\n",
    "# Llamamos a la función que genera el reporte print(funcion(tanque1, tanque2, tanque3))\n",
    "print(generate_report(80, 70, 85))\n",
    "# Función promedio \n",
    "def average(values):\n",
    "    total = sum(values)\n",
    "    number_of_items = len(values)\n",
    "    return total / number_of_items\n",
    "\n",
    "# Test the averaging function with a list of integers:\n",
    "average([80, 85, 81]) \n",
    "# Actualiza la función\n",
    "def generate_report(main_tank, external_tank, hydrogen_tank):\n",
    "    return f\"\"\"Fuel Report:\n",
    "    Total Average: {average([main_tank, external_tank, hydrogen_tank])}%\n",
    "    Main tank: {main_tank}%\n",
    "    External tank: {external_tank}%\n",
    "    Hydrogen tank: {hydrogen_tank}% \n",
    "    \"\"\"\n",
    "\n",
    "# Call the updated function again with different values\n",
    "print(generate_report(88, 76, 70))"
   ]
  },
  {
   "cell_type": "markdown",
   "metadata": {},
   "source": [
    "Ejercicio 2"
   ]
  },
  {
   "cell_type": "code",
   "execution_count": 3,
   "metadata": {},
   "outputs": [
    {
     "name": "stdout",
     "output_type": "stream",
     "text": [
      "\n",
      "    Mision con destino a Moon\n",
      "    Tiempo de viaje: 65\n",
      "    Cantidad de tanque : 500000\n",
      "    \n",
      "\n",
      "    Mision con destino a Moon\n",
      "    Tiempo de viaje: 76 \n",
      "    Cantidad de tanque: 500000\n",
      "    \n",
      "\n",
      "    Mision con destino a Moon\n",
      "    Tiempo de viaje: 74 \n",
      "    Cantidad de tanque: 500000\n",
      "    En el tanque principal quedan 300000 galones\n",
      "En el tanque reserva quedan 200000 galones\n",
      "\n"
     ]
    }
   ],
   "source": [
    "def mission_report(prelanzamiento, tiempo, destinacion, tanque_reserva, tanque):\n",
    "    return f\"\"\"\n",
    "    Mision con destino a {destinacion}\n",
    "    Tiempo de viaje: {prelanzamiento + tiempo}\n",
    "    Cantidad de tanque : {tanque + tanque_reserva}\n",
    "    \"\"\"\n",
    "\n",
    "print(mission_report(14, 51, \"Moon\", 200000, 300000))\n",
    "\n",
    "def mission_report(destinacion, *minutos, **tanquereservas):\n",
    "    return f\"\"\"\n",
    "    Mision con destino a {destinacion}\n",
    "    Tiempo de viaje: {sum(minutos)} \n",
    "    Cantidad de tanque: {sum(tanquereservas.values())}\n",
    "    \"\"\"\n",
    "\n",
    "print(mission_report(\"Moon\", 10, 15, 51, pricipal=300000, reserva=200000))\n",
    "\n",
    "\n",
    "def mission_report(destinacion, *minutos, **tanquereservas):\n",
    "    reporte = f\"\"\"\n",
    "    Mision con destino a {destinacion}\n",
    "    Tiempo de viaje: {sum(minutos)} \n",
    "    Cantidad de tanque: {sum(tanquereservas.values())}\n",
    "    \"\"\"\n",
    "    for tank_name, gallons in tanquereservas.items():\n",
    "        reporte += f\"En el tanque {tank_name} quedan {gallons} galones\\n\"\n",
    "    return reporte\n",
    "\n",
    "print(mission_report(\"Moon\", 8, 11, 55, principal=300000, reserva=200000))"
   ]
  }
 ],
 "metadata": {
  "interpreter": {
   "hash": "fcea7bec55ff6d7f3b1107f41f074eaa5711bec3d5478eb754b653bcca62ae21"
  },
  "kernelspec": {
   "display_name": "Python 3.9.10 64-bit (windows store)",
   "language": "python",
   "name": "python3"
  },
  "language_info": {
   "codemirror_mode": {
    "name": "ipython",
    "version": 3
   },
   "file_extension": ".py",
   "mimetype": "text/x-python",
   "name": "python",
   "nbconvert_exporter": "python",
   "pygments_lexer": "ipython3",
   "version": "3.9.10"
  },
  "orig_nbformat": 4
 },
 "nbformat": 4,
 "nbformat_minor": 2
}
