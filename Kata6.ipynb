{
 "cells": [
  {
   "cell_type": "markdown",
   "metadata": {},
   "source": [
    "# Creamos la lista planets y la mostramos\n",
    "# Agregamos a plutón y mostramos el último elemento"
   ]
  },
  {
   "cell_type": "code",
   "execution_count": 2,
   "metadata": {},
   "outputs": [
    {
     "name": "stdout",
     "output_type": "stream",
     "text": [
      "Los planetas son:  ['Mercury', 'Venus', 'Earth', 'Mars', 'Jupiter', 'Saturn', 'Uranus', 'Neptune']\n",
      "Los planetas con Pluton son:  ['Mercury', 'Venus', 'Earth', 'Mars', 'Jupiter', 'Saturn', 'Uranus', 'Neptune', 'Pluto'] en total:  9 planetas\n",
      "El ultimo planeta es  Pluto\n"
     ]
    }
   ],
   "source": [
    "planets = ['Mercury', 'Venus', 'Earth', 'Mars', 'Jupiter', 'Saturn', 'Uranus', 'Neptune']\n",
    "print(\"Los planetas son: \", planets)\n",
    "\n",
    "planets.append('Pluto')\n",
    "numberofplanets = len(planets)\n",
    "\n",
    "print(\"Los planetas con Pluton son: \", planets, \"en total: \",numberofplanets, \"planetas\")\n",
    "print (\"El ultimo planeta es \", planets[-1])\n"
   ]
  },
  {
   "cell_type": "markdown",
   "metadata": {},
   "source": [
    "# Ejercicio 2"
   ]
  },
  {
   "cell_type": "code",
   "execution_count": 6,
   "metadata": {},
   "outputs": [
    {
     "name": "stdout",
     "output_type": "stream",
     "text": [
      "Los planetas mas cercanos al sol son: Mercury\n",
      "[]\n",
      "Los planetas mas lejanos son: Mercury\n",
      "['Venus', 'Earth', 'Mars', 'Jupiter', 'Saturn', 'Neptune']\n"
     ]
    }
   ],
   "source": [
    "# Lista de planetas\n",
    "planets = ['Mercury', 'Venus', 'Earth', 'Mars', 'Jupiter', 'Saturn', 'Neptune']\n",
    "\n",
    "pide_planeta = input('Ingresa el nombre del planeta (Con mayuscula')\n",
    "buscaplaneta = planets.index(pide_planeta)\n",
    "\n",
    "print('Los planetas mas cercanos al sol son: ' + pide_planeta)\n",
    "print(planets[0:buscaplaneta])\n",
    "\n",
    "print('Los planetas mas lejanos son: ' + pide_planeta)\n",
    "print(planets[buscaplaneta + 1:])"
   ]
  }
 ],
 "metadata": {
  "interpreter": {
   "hash": "fcea7bec55ff6d7f3b1107f41f074eaa5711bec3d5478eb754b653bcca62ae21"
  },
  "kernelspec": {
   "display_name": "Python 3.9.10 64-bit (windows store)",
   "language": "python",
   "name": "python3"
  },
  "language_info": {
   "codemirror_mode": {
    "name": "ipython",
    "version": 3
   },
   "file_extension": ".py",
   "mimetype": "text/x-python",
   "name": "python",
   "nbconvert_exporter": "python",
   "pygments_lexer": "ipython3",
   "version": "3.9.10"
  },
  "orig_nbformat": 4
 },
 "nbformat": 4,
 "nbformat_minor": 2
}
