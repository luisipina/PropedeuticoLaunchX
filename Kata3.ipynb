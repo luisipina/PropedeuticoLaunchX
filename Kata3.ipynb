{
 "cells": [
  {
   "cell_type": "markdown",
   "metadata": {},
   "source": [
    "# Añadir el código necesario para crear una variable que guarde la velocidad del asteroide.\n",
    "# Escribe una expresión de prueba para calcular si necesita una advertencia.\n",
    "# Agregue las instrucciones que se ejecutarán si la expresión de prueba es true o false."
   ]
  },
  {
   "cell_type": "code",
   "execution_count": 21,
   "metadata": {},
   "outputs": [
    {
     "name": "stdout",
     "output_type": "stream",
     "text": [
      "El asteroide se acerca de manera lenta\n"
     ]
    }
   ],
   "source": [
    "velocidad=19\n",
    "\n",
    "if velocidad > 25:\n",
    "    print(\"El asteroide se acerca muy rapido a la Tierra\")\n",
    "else:\n",
    "    print(\"El asteroide se acerca de manera lenta\")"
   ]
  },
  {
   "cell_type": "markdown",
   "metadata": {},
   "source": [
    "# Agrega el código para crear una variable para un asteroide que viaja a 19 km/s\n",
    "# Escribe varias expresiones de prueba para determinar si puedes ver el rayo de luz desde la tierra\n",
    "# Agrega las instrucciones que se ejecutarán si las expresiones de prueba son True o False"
   ]
  },
  {
   "cell_type": "code",
   "execution_count": 18,
   "metadata": {},
   "outputs": [
    {
     "name": "stdout",
     "output_type": "stream",
     "text": [
      "Se puede ver el rayo de luz\n"
     ]
    }
   ],
   "source": [
    "velocidad=50\n",
    "if velocidad > 20:\n",
    "    print (\"Se puede ver el rayo de luz\")\n",
    "\n",
    "elif velocidad == 20:\n",
    "    print (\"Se puede ver e rayo de luz\")\n",
    "\n",
    "else:\n",
    "    print(\"No hay nada por aqui\")"
   ]
  },
  {
   "cell_type": "markdown",
   "metadata": {},
   "source": [
    "# Agrega el código para crear nuevas variables para la velocidad y el tamaño del asteroide\n",
    "# Para probar el código, prueba con varias velocidades y tamaños\n",
    "# Escribe varias expresiones de prueba o combinaciones de expresiones de prueba para determinar qué mensaje se debe enviar a Tierra."
   ]
  },
  {
   "cell_type": "code",
   "execution_count": 33,
   "metadata": {},
   "outputs": [
    {
     "name": "stdout",
     "output_type": "stream",
     "text": [
      "Se acerca un asteroide peligroso\n"
     ]
    }
   ],
   "source": [
    "velocidad = 60\n",
    "tamano = 60\n",
    "\n",
    "if velocidad > 25 and tamano > 25:\n",
    "    print(\"Se acerca un asteroide peligroso\")\n",
    "elif(velocidad >= 20):\n",
    "    print(\"Se puede ver un rayo de luz\")\n",
    "elif(tamano<25):\n",
    "    print(\"No hay nada por aqui\")\n",
    "else:\n",
    "    print(\"No hay nada por aqui\")"
   ]
  }
 ],
 "metadata": {
  "interpreter": {
   "hash": "fcea7bec55ff6d7f3b1107f41f074eaa5711bec3d5478eb754b653bcca62ae21"
  },
  "kernelspec": {
   "display_name": "Python 3.9.10 64-bit (windows store)",
   "language": "python",
   "name": "python3"
  },
  "language_info": {
   "codemirror_mode": {
    "name": "ipython",
    "version": 3
   },
   "file_extension": ".py",
   "mimetype": "text/x-python",
   "name": "python",
   "nbconvert_exporter": "python",
   "pygments_lexer": "ipython3",
   "version": "3.9.10"
  },
  "orig_nbformat": 4
 },
 "nbformat": 4,
 "nbformat_minor": 2
}
